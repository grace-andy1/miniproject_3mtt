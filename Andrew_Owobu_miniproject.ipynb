{
  "cells": [
    {
      "cell_type": "markdown",
      "id": "1ee5ac12-5aec-40ed-bd7e-ea45842b425a",
      "metadata": {
        "id": "1ee5ac12-5aec-40ed-bd7e-ea45842b425a"
      },
      "source": [
        "# Problem Solving Activities\n",
        "\n",
        "This will consist of four problem solving acivities, where you are expected to attempt all the tasks"
      ]
    },
    {
      "cell_type": "markdown",
      "id": "97592219-3eef-49da-8dc1-085faa5f8bca",
      "metadata": {
        "id": "97592219-3eef-49da-8dc1-085faa5f8bca"
      },
      "source": [
        "## 1. Quiz Game\n",
        "\n",
        "**Task**: **Create a quiz game made up of 5 questions. The user should be able to enter in answers and the final score calculated.**\n",
        "\n",
        "**Objective**: To create a Python-based quiz game that allows users to answer 5 questions interactively and calculates their final score based on correct answers.\n",
        "\n",
        "**Acceptance Criteria**:\n",
        "\n",
        "- The quiz contains exactly five questions.\n",
        "- Questions and answers are stored in an easily modifiable structure (e.g., a list of dictionaries).\n",
        "- The user can input their answers, and responses are case-insensitive.\n",
        "- Correct answers increase the score, and incorrect answers display the correct answer.\n",
        "- The final score is displayed at the end of the quiz."
      ]
    },
    {
      "cell_type": "markdown",
      "id": "79ed75a7-3b62-42c8-bb3d-cf31f523508f",
      "metadata": {
        "id": "79ed75a7-3b62-42c8-bb3d-cf31f523508f"
      },
      "source": [
        "## 2. Number Swapping\n",
        "\n",
        "**Task**: **Swapping two numbers in Python.**\n",
        "\n",
        "**Objective**: Create a Python program that swaps two numbers entered by the user and displays the values before and after swapping.\n",
        "\n",
        "**Acceptance Criteria**:\n",
        "- The program accepts two numbers as input from the user.\n",
        "- The numbers are displayed before and after swapping.\n",
        "- The program uses Python’s tuple unpacking for swapping.\n",
        "- Invalid input (non-numeric) is handled gracefully with an error message.\n",
        "- The program successfully swaps the values without requiring a temporary variable."
      ]
    },
    {
      "cell_type": "markdown",
      "id": "0f8c8201-65a2-415c-8890-693cfe0bd412",
      "metadata": {
        "id": "0f8c8201-65a2-415c-8890-693cfe0bd412"
      },
      "source": [
        "## 3. Prime/Armstrong/Palindrome Number Identifier\n",
        "\n",
        "**Task**: **Write a code/logic to determine if the value entered is a Prime number, an Armstrong Number or a Palindrome number.**\n",
        "\n",
        "**Objective**: To create a Python program that checks whether a user-entered number is a Prime number, Armstrong number, or Palindrome, and displays the results accordingly.\n",
        "\n",
        "**Acceptance Criteria**:\n",
        "- The program accepts a single integer input from the user.\n",
        "- It checks and identifies if the number is a:\n",
        "    - Prime number: A number greater than 1 that is divisible only by 1 and itself.\n",
        "    - Armstrong number: A number equal to the sum of its digits raised to the power of the number of digits.\n",
        "    - Palindrome: A number that reads the same backward as forward.\n",
        "- The program displays appropriate messages for each property satisfied by the number.\n",
        "- If the number does not meet any criteria, a message is displayed stating so.\n",
        "- Non-integer input is handled gracefully with an error message."
      ]
    },
    {
      "cell_type": "markdown",
      "id": "d0eb118f-70e2-483c-ac16-9373fec0ae05",
      "metadata": {
        "id": "d0eb118f-70e2-483c-ac16-9373fec0ae05"
      },
      "source": [
        "## 4. The Fibonacci Sequence\n",
        "\n",
        "**Task**: **Generate the Fibonacci Sequence.**\n",
        "\n",
        "**Objective**: To create a Python program that generates the first n terms of the Fibonacci sequence based on user input.\n",
        "\n",
        "**Acceptance Criteria**:\n",
        "- The program accepts a positive integer input (n) from the user.\n",
        "- It generates and displays the first n terms of the Fibonacci sequence.\n",
        "- The Fibonacci sequence is calculated iteratively.\n",
        "- If the input is zero or negative, an appropriate error message is displayed.\n",
        "- Non-integer input is handled gracefully with an error message."
      ]
    },
    {
      "cell_type": "markdown",
      "source": [
        "# 1. Quiz Game\n",
        "The goal is to create a quiz game with five questions, allowing users to answer them and receive a score based on the correct answers.**bold text**"
      ],
      "metadata": {
        "id": "ddHdIOrWX0UZ"
      },
      "id": "ddHdIOrWX0UZ"
    },
    {
      "cell_type": "code",
      "source": [
        "def quiz_game():\n",
        "    questions = [\n",
        "        {\"question\": \"What is the capital of France?\", \"answer\": \"paris\"},\n",
        "        {\"question\": \"Who wrote 'Hamlet'?\", \"answer\": \"shakespeare\"},\n",
        "        {\"question\": \"What is 5 + 5?\", \"answer\": \"10\"},\n",
        "        {\"question\": \"What is the largest planet in our solar system?\", \"answer\": \"jupiter\"},\n",
        "        {\"question\": \"Who painted the Mona Lisa?\", \"answer\": \"da vinci\"}\n",
        "    ]\n",
        "\n",
        "    score = 0\n",
        "\n",
        "    for q in questions:\n",
        "        user_answer = input(q[\"question\"] + \" \").lower()\n",
        "        if user_answer == q[\"answer\"]:\n",
        "            score += 1\n",
        "        else:\n",
        "            print(f\"Wrong! The correct answer is: {q['answer']}\")\n",
        "\n",
        "    print(f\"\\nYour final score is: {score}/5\")\n",
        "\n",
        "# Call the function to run the quiz\n",
        "quiz_game()\n"
      ],
      "metadata": {
        "id": "c7fPPmhVVatW"
      },
      "id": "c7fPPmhVVatW",
      "execution_count": null,
      "outputs": []
    },
    {
      "cell_type": "markdown",
      "source": [
        "2. Number Swapping\n",
        "## This task involves swapping two numbers using Python's tuple unpacking."
      ],
      "metadata": {
        "id": "hnaLGmpvYK6e"
      },
      "id": "hnaLGmpvYK6e"
    },
    {
      "cell_type": "code",
      "source": [
        "def swap_numbers():\n",
        "    try:\n",
        "        num1 = float(input(\"Enter the first number: \"))\n",
        "        num2 = float(input(\"Enter the second number: \"))\n",
        "\n",
        "        print(f\"Before swapping: num1 = {num1}, num2 = {num2}\")\n",
        "\n",
        "        # Swapping using tuple unpacking\n",
        "        num1, num2 = num2, num1\n",
        "\n",
        "        print(f\"After swapping: num1 = {num1}, num2 = {num2}\")\n",
        "    except ValueError:\n",
        "        print(\"Invalid input! Please enter valid numeric values.\")\n",
        "\n",
        "# Call the function to swap numbers\n",
        "swap_numbers()\n"
      ],
      "metadata": {
        "id": "3dM8l99rYQhf"
      },
      "id": "3dM8l99rYQhf",
      "execution_count": null,
      "outputs": []
    },
    {
      "cell_type": "markdown",
      "source": [
        "3. Prime/Armstrong/Palindrome Number Identifier\n",
        "# This task checks whether a number is prime, an Armstrong number, or a palindrome."
      ],
      "metadata": {
        "id": "9XIr4McnYcst"
      },
      "id": "9XIr4McnYcst"
    },
    {
      "cell_type": "code",
      "source": [
        "def is_prime(n):\n",
        "    if n <= 1:\n",
        "        return False\n",
        "    for i in range(2, int(n ** 0.5) + 1):\n",
        "        if n % i == 0:\n",
        "            return False\n",
        "    return True\n",
        "\n",
        "def is_armstrong(n):\n",
        "    num_str = str(n)\n",
        "    num_digits = len(num_str)\n",
        "    sum_of_powers = sum(int(digit) ** num_digits for digit in num_str)\n",
        "    return sum_of_powers == n\n",
        "\n",
        "def is_palindrome(n):\n",
        "    return str(n) == str(n)[::-1]\n",
        "\n",
        "def number_identifier():\n",
        "    try:\n",
        "        num = int(input(\"Enter a number: \"))\n",
        "\n",
        "        if is_prime(num):\n",
        "            print(f\"{num} is a Prime number.\")\n",
        "        else:\n",
        "            print(f\"{num} is not a Prime number.\")\n",
        "\n",
        "        if is_armstrong(num):\n",
        "            print(f\"{num} is an Armstrong number.\")\n",
        "        else:\n",
        "            print(f\"{num} is not an Armstrong number.\")\n",
        "\n",
        "        if is_palindrome(num):\n",
        "            print(f\"{num} is a Palindrome number.\")\n",
        "        else:\n",
        "            print(f\"{num} is not a Palindrome number.\")\n",
        "\n",
        "    except ValueError:\n",
        "        print(\"Invalid input! Please enter a valid integer.\")\n",
        "\n",
        "# Call the function to identify the number\n",
        "number_identifier()\n"
      ],
      "metadata": {
        "id": "VWGFZ0mNYirA"
      },
      "id": "VWGFZ0mNYirA",
      "execution_count": null,
      "outputs": []
    },
    {
      "cell_type": "markdown",
      "source": [
        "4. The Fibonacci Sequence\n",
        "# This task generates the Fibonacci sequence for n terms."
      ],
      "metadata": {
        "id": "8FmOgBZRYu52"
      },
      "id": "8FmOgBZRYu52"
    },
    {
      "cell_type": "code",
      "source": [
        "def fibonacci_sequence():\n",
        "    try:\n",
        "        n = int(input(\"Enter the number of terms for the Fibonacci sequence: \"))\n",
        "\n",
        "        if n <= 0:\n",
        "            print(\"Please enter a positive integer greater than 0.\")\n",
        "            return\n",
        "\n",
        "        a, b = 0, 1\n",
        "        print(f\"Fibonacci sequence up to {n} terms:\")\n",
        "\n",
        "        for _ in range(n):\n",
        "            print(a, end=\" \")\n",
        "            a, b = b, a + b\n",
        "        print()  # For newline after printing the sequence\n",
        "\n",
        "    except ValueError:\n",
        "        print(\"Invalid input! Please enter a valid positive integer.\")\n",
        "\n",
        "# Call the function to display Fibonacci sequence\n",
        "fibonacci_sequence()\n"
      ],
      "metadata": {
        "id": "I-WAoPrKY0FB"
      },
      "id": "I-WAoPrKY0FB",
      "execution_count": null,
      "outputs": []
    }
  ],
  "metadata": {
    "kernelspec": {
      "display_name": "Python 3 (ipykernel)",
      "language": "python",
      "name": "python3"
    },
    "language_info": {
      "codemirror_mode": {
        "name": "ipython",
        "version": 3
      },
      "file_extension": ".py",
      "mimetype": "text/x-python",
      "name": "python",
      "nbconvert_exporter": "python",
      "pygments_lexer": "ipython3",
      "version": "3.12.7"
    },
    "colab": {
      "provenance": []
    }
  },
  "nbformat": 4,
  "nbformat_minor": 5
}